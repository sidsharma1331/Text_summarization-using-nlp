{
 "cells": [
  {
   "cell_type": "code",
   "execution_count": 11,
   "metadata": {},
   "outputs": [
    {
     "name": "stdout",
     "output_type": "stream",
     "text": [
      "Weather forecasting is the application of science and technology to predict the state of the atmosphere for a future time and a given location.\n",
      "Studying how the weather works on other planets has been helpful in understanding how weather works on Earth.\n",
      "When used without qualification, \"weather\" is generally understood to mean the weather of Earth.\n",
      "Weather does occur in the stratosphere and can affect weather lower down in the troposphere, but the exact mechanisms are poorly understood.\n",
      "Weather occurs primarily due to air pressure, temperature and moisture differences between one place to another.\n"
     ]
    }
   ],
   "source": [
    "import bs4 as bs\n",
    "import urllib.request\n",
    "import re\n",
    "import nltk\n",
    "import heapq\n",
    "#nltk.download(\"stopwords\")\n",
    "\n",
    "source = urllib.request.urlopen(\"https://en.wikipedia.org/wiki/Weather\").read()\n",
    "soup = bs.BeautifulSoup(source,'lxml')\n",
    "text = \"\"\n",
    "#finding all the text that are in the paragraph tag in html. \n",
    "#In wikipedia whatever text u see corresponding to an article is always inside of paragraph tag(\"p\")\n",
    "#fetch all the text\n",
    "for paragraph in soup.find_all('p'):\n",
    "    text += paragraph.text\n",
    "#preprocessing the text require re library\n",
    "#removing all the number in the [] in the text\n",
    "text=re.sub(r'\\[[0-9]*\\]',' ',text)\n",
    "#remove extraspace\n",
    "text=re.sub(r\"\\s+\",\" \",text)\n",
    "clean_text=text.lower()\n",
    "#remove the non-word character\n",
    "clean_text=re.sub(r\"\\W\",\" \",clean_text)\n",
    "#remove all digits\n",
    "clean_text=re.sub(r\"\\d\",\" \",clean_text)\n",
    "#remove the extra space\n",
    "clean_text = re.sub(r\"\\s+\",\" \",clean_text)\n",
    "#tokenise the whole paragraph to sentences wwe require nltk library\n",
    "\n",
    "sentences=nltk.sent_tokenize(text)\n",
    "stop_words=nltk.corpus.stopwords.words(\"english\")\n",
    "#creating histogram where words-->keys and count-->values\n",
    "word2count={}\n",
    "for word in nltk.word_tokenize(clean_text):\n",
    "    if word not in stop_words:\n",
    "        if word not in word2count.keys():\n",
    "            word2count[word]=1\n",
    "        else:\n",
    "            word2count[word]+=1\n",
    "#converting counts to weights\n",
    "max_count = max(word2count.values())\n",
    "for key in word2count.keys():\n",
    "    word2count[key] = word2count[key]/max_count\n",
    "\n",
    "#create sentence score\n",
    "sent2score = {}\n",
    "for sentence in sentences:\n",
    "    for word in nltk.word_tokenize(sentence.lower()):\n",
    "        if word in word2count.keys():\n",
    "            if len(sentence.split(\" \")) < 25:\n",
    "                if sentence not in sent2score.keys():\n",
    "                    sent2score[sentence] = word2count[word]\n",
    "                else:\n",
    "                    sent2score[sentence] += word2count[word]\n",
    "#print the number of sentence you want to display\n",
    "#5 in parameter is the number of line you wanted to print \n",
    "best_sent = heapq.nlargest(5, sent2score, key=sent2score.get)\n",
    "\n",
    "for sentence in best_sent:\n",
    "    print(sentence)\n",
    "        \n",
    "            \n",
    "            \n",
    "            \n",
    "            \n",
    "            "
   ]
  },
  {
   "cell_type": "code",
   "execution_count": null,
   "metadata": {},
   "outputs": [],
   "source": []
  }
 ],
 "metadata": {
  "kernelspec": {
   "display_name": "Python 3",
   "language": "python",
   "name": "python3"
  },
  "language_info": {
   "codemirror_mode": {
    "name": "ipython",
    "version": 3
   },
   "file_extension": ".py",
   "mimetype": "text/x-python",
   "name": "python",
   "nbconvert_exporter": "python",
   "pygments_lexer": "ipython3",
   "version": "3.7.1"
  }
 },
 "nbformat": 4,
 "nbformat_minor": 2
}
